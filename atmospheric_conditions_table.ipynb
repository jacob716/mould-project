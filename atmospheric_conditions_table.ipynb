{
 "cells": [
  {
   "cell_type": "code",
   "execution_count": 1,
   "id": "c191a64f",
   "metadata": {},
   "outputs": [],
   "source": [
    "from src.extract import extract_atmospheric_table"
   ]
  },
  {
   "cell_type": "code",
   "execution_count": 3,
   "id": "25581197",
   "metadata": {},
   "outputs": [],
   "source": [
    "BN17 = extract_atmospheric_table('reports/David_Bly_BN17.pdf')"
   ]
  },
  {
   "cell_type": "code",
   "execution_count": 4,
   "id": "dd42c76a",
   "metadata": {},
   "outputs": [
    {
     "name": "stdout",
     "output_type": "stream",
     "text": [
      "Exterior 75.0 19.6 15.0 10.4\n",
      "Hallway 70.5 24.1 18.4 12.7\n",
      "Kitchen 61.5 24.8 16.9 11.5\n"
     ]
    }
   ],
   "source": [
    "print(BN17)"
   ]
  },
  {
   "cell_type": "code",
   "execution_count": null,
   "id": "011f5439",
   "metadata": {},
   "outputs": [],
   "source": []
  }
 ],
 "metadata": {
  "kernelspec": {
   "display_name": ".venv",
   "language": "python",
   "name": "python3"
  },
  "language_info": {
   "codemirror_mode": {
    "name": "ipython",
    "version": 3
   },
   "file_extension": ".py",
   "mimetype": "text/x-python",
   "name": "python",
   "nbconvert_exporter": "python",
   "pygments_lexer": "ipython3",
   "version": "3.13.1"
  }
 },
 "nbformat": 4,
 "nbformat_minor": 5
}
