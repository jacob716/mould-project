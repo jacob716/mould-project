{
 "cells": [
  {
   "cell_type": "code",
   "execution_count": 6,
   "id": "8d2e2aa9",
   "metadata": {},
   "outputs": [
    {
     "name": "stdout",
     "output_type": "stream",
     "text": [
      "📝 Word files: 213\n",
      "📄 PDF files: 213\n",
      "\n",
      "✅ All Word files have matching PDFs!\n"
     ]
    }
   ],
   "source": [
    "import os\n",
    "from pathlib import Path\n",
    "\n",
    "# ====== CONFIG ======\n",
    "word_folder = Path(\"reports/newreports/uncompleted/batch1\")   # folder containing your .docx or .doc files\n",
    "pdf_folder = Path(\"reports/newreports/completed/batch1\")     # folder containing converted .pdf files\n",
    "# ====================\n",
    "\n",
    "# normalise filenames (without extensions)\n",
    "word_basenames = {f.stem for f in word_folder.glob(\"*.docx\")} | {f.stem for f in word_folder.glob(\"*.doc\")}\n",
    "pdf_basenames = {f.stem for f in pdf_folder.glob(\"*.pdf\")}\n",
    "\n",
    "# find missing PDFs and extra PDFs\n",
    "missing_pdfs = word_basenames - pdf_basenames\n",
    "extra_pdfs = pdf_basenames - word_basenames\n",
    "\n",
    "# print results\n",
    "print(f\"📝 Word files: {len(word_basenames)}\")\n",
    "print(f\"📄 PDF files: {len(pdf_basenames)}\\n\")\n",
    "\n",
    "if missing_pdfs:\n",
    "    print(\"❌ PDFs missing for the following Word files:\")\n",
    "    for name in sorted(missing_pdfs):\n",
    "        print(f\"  - {name}\")\n",
    "else:\n",
    "    print(\"✅ All Word files have matching PDFs!\")\n",
    "\n",
    "if extra_pdfs:\n",
    "    print(\"\\n⚠️ PDFs with no corresponding Word file:\")\n",
    "    for name in sorted(extra_pdfs):\n",
    "        print(f\"  - {name}\")\n"
   ]
  },
  {
   "cell_type": "code",
   "execution_count": null,
   "id": "070c9b33",
   "metadata": {},
   "outputs": [],
   "source": []
  }
 ],
 "metadata": {
  "kernelspec": {
   "display_name": ".venv",
   "language": "python",
   "name": "python3"
  },
  "language_info": {
   "codemirror_mode": {
    "name": "ipython",
    "version": 3
   },
   "file_extension": ".py",
   "mimetype": "text/x-python",
   "name": "python",
   "nbconvert_exporter": "python",
   "pygments_lexer": "ipython3",
   "version": "3.13.1"
  }
 },
 "nbformat": 4,
 "nbformat_minor": 5
}
