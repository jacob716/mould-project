{
 "cells": [
  {
   "cell_type": "code",
   "execution_count": 1,
   "id": "5e4a3eff",
   "metadata": {},
   "outputs": [],
   "source": [
    "import pandas as pd"
   ]
  },
  {
   "cell_type": "code",
   "execution_count": 5,
   "id": "85fd69e5",
   "metadata": {},
   "outputs": [],
   "source": [
    "mini_df = pd.read_csv(\"../csv_files/extracted_reports_v2.csv\")\n",
    "f4_1_df = pd.read_csv(\"../extracted_reports_sample_4.1.csv\")\n",
    "mapping_df = pd.read_csv(\"../csv_files/mapping.csv\")"
   ]
  },
  {
   "cell_type": "code",
   "execution_count": 6,
   "id": "0a506c86",
   "metadata": {},
   "outputs": [],
   "source": [
    "# join mini_df with mapping on old_name\n",
    "mini_df = mini_df.merge(mapping_df, left_on=\"filename\", right_on=\"old_name\", how=\"left\")\n",
    "\n",
    "# replace filename column with the new_name\n",
    "mini_df[\"filename\"] = mini_df[\"new_name\"]\n",
    "\n",
    "# drop helper columns if you like\n",
    "mini_df = mini_df.drop(columns=[\"old_name\", \"new_name\", \"id\"])\n"
   ]
  },
  {
   "cell_type": "code",
   "execution_count": 8,
   "id": "4075c867",
   "metadata": {},
   "outputs": [],
   "source": [
    "compare_df = mini_df.merge(\n",
    "    f4_1_df,\n",
    "    on=\"filename\",\n",
    "    suffixes=(\"_mini\", \"_4point1\")\n",
    ")\n"
   ]
  },
  {
   "cell_type": "code",
   "execution_count": 10,
   "id": "7ef70bac",
   "metadata": {},
   "outputs": [],
   "source": [
    "# save comparison dataframe to CSV\n",
    "compare_df.to_csv(\"model_comparison.csv\", index=False)\n"
   ]
  },
  {
   "cell_type": "code",
   "execution_count": null,
   "id": "b12a0832",
   "metadata": {},
   "outputs": [],
   "source": []
  }
 ],
 "metadata": {
  "kernelspec": {
   "display_name": ".venv",
   "language": "python",
   "name": "python3"
  },
  "language_info": {
   "codemirror_mode": {
    "name": "ipython",
    "version": 3
   },
   "file_extension": ".py",
   "mimetype": "text/x-python",
   "name": "python",
   "nbconvert_exporter": "python",
   "pygments_lexer": "ipython3",
   "version": "3.13.1"
  }
 },
 "nbformat": 4,
 "nbformat_minor": 5
}
