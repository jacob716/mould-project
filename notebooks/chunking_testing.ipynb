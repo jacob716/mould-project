{
 "cells": [
  {
   "cell_type": "code",
   "execution_count": 1,
   "id": "48398f9d",
   "metadata": {},
   "outputs": [],
   "source": [
    "import sys\n",
    "import os\n",
    "\n",
    "sys.path.append(os.path.abspath(\"..\"))  # Go up one level\n",
    "from src.chunking import chunk_report_by_paragraph, find_ventilation_chunks, chunk_pdf_text\n",
    "from src.extract import extract_full_text, extract_relevant"
   ]
  },
  {
   "cell_type": "code",
   "execution_count": 2,
   "id": "2d48aace",
   "metadata": {},
   "outputs": [],
   "source": [
    "BN17 = extract_full_text(\"../reports/David_Bly_BN17.pdf\")"
   ]
  },
  {
   "cell_type": "code",
   "execution_count": 5,
   "id": "cf68133f",
   "metadata": {},
   "outputs": [],
   "source": [
    "BS35 = extract_full_text(\"../reports/David_Bly_BS35.pdf\")"
   ]
  },
  {
   "cell_type": "code",
   "execution_count": 14,
   "id": "92ccfb48",
   "metadata": {},
   "outputs": [],
   "source": [
    "BN17chunks = chunk_pdf_text(BN17,target_len=300, max_len = 500)\n",
    "BS35chunks = chunk_pdf_text(BS35)"
   ]
  },
  {
   "cell_type": "code",
   "execution_count": 15,
   "id": "89822556",
   "metadata": {},
   "outputs": [],
   "source": [
    "ventilation_chunks_BN17 = find_ventilation_chunks(BN17chunks)"
   ]
  },
  {
   "cell_type": "code",
   "execution_count": 16,
   "id": "98665a24",
   "metadata": {},
   "outputs": [
    {
     "data": {
      "text/plain": [
       "['3.0 Conclusion: On arrival, the author was advised by a relative of the resident (who was at work) the concerns aligns to dampness being observed in areas of the property with stale odours also detected at times. On arrival the property appeared to be in general good order although some areas did display localised spoiling likely due to the overriding condition of the structure. A moisture profile was conducted through the property in order to assist determining a pattern through the dwelling as a whole and not just singular aspects (section 4.0). The readings were elevated in many areas both to internal and external walls. The floor also emitted elevated readings where was possible to the thermoplastic floor tiling and, can be considered a normal phenomena since the tiling will be acting as a DPM for ground moisture in the slab. However, a review of exposed floor areas indicated a number of gaps in the membrane and even some tiles removed resulting in a clear observation of the residual bitumen. This absence of a DPM will enable ground moisture to evaporate into the structure raising the potential for secondary issues. And, as it was notable in a number of areas, it remains highly likely why some areas of the installed timber floor also emitted elevated moisture readings. With this in mind, there remains a feasible problem with the membrane coverage as whole in the property resulting in the elevated readings obtained throughout. Also, in some areas the skirtings emitted elevated moisture levels and could likely be due to their contact with the ground or through the localised walls where they may be in contact with the concrete slab. To the exterior there was evidence of cavity wall insulation (CWI) with a number of drill holes noted and, what cannot be ruled out from the external wall perspective is the overall condition of the CWI in terms of its dampness as this can also act as a bridge for moisture to travel to the inner leaf and wet the internal walls. Whilst on site an assessment was undertaken of the installed ventilation measures with forced extractors installed in the bathroom and kitchen as this can also impact the internal conditions particularly in the colder periods of the year. Of note, trickle vents were installed in these rooms also and, they can also compromise the extractor performance by being able to draw air in from the exterior rather than from the rooms. A test of the bathroom extractor suggested it’s flow rate is compatible with the Part F of the Building Regs when on boost and a secondary boost function which is manually selected. However, for its optimum performance delivery it is recommended guidance is given to the tenant to keep the nearby window closed when this is operating for it to withdraw moist air from the property and not draw air in and straight out from the exterior. In addition, Part F of the Building Regs suggest a 10mm door undercut to enable ‘make- up’ air to be drawn into the bathroom from the dwelling and expel all moist air to the exterior. This door did not comply with the recommendations and hence, after the room is used, the difference in vapour pressure will result in the warm moist atmosphere circulating the property. In the kitchen the wall mounted device was switched off at the isolator and the tested flow rate was not compliant with the applicable regs. Also, with a variable door undercut, using the kitchen will also likely encourage atmospheric moisture to circulate the dwelling raising the potential for secondary issues. To conclude, it is the opinion of the author, there are indeed elevated moisture readings to the majority of the external and internal lower walls and, with notable gaps in the thermoplastic membrane acting as a DPM for ground moisture, the ongoing presence of ground moisture is a likely contributor to the reported damp related issues. This was endorsed by expected high readings taken on the exposed floor confirming its construction hence, it is recommended the floor covering as a whole is checked alongside the removal of all skirtings to assess the presence of a membrane to the lower wall from the floor. The introduction of a liquid DPM cannot be ruled out as a possible option to reduce this issue. In addition, the presence and condition of the CWI should be checked to ensure this is not a contributory factor also to the external walls because the addition of open air bricks can affect their condition.',\n",
       " '• Review the kitchen and bathroom door undercut for a 10mm gap to aid the extractor performance.\\n\\n• Review the kitchen unit for performance compliance in line with Part F of the building Regs.\\nTenants:\\n\\n• Keep the trickle vents closed in the Kitchen and Bathroom when the extractors are working.\\n\\n• After use, keep the doors to the kitchen and bathroom closed until the forced extraction has cleared the room of generated atmospheric moisture.',\n",
       " '.4\\n\\n4.4 Atmospheric conditions: Location Relative Humidity % Air Temp oC Dew Point Temp oC Specific Humidity g/Kg Exterior 75.0 19.6 15.0 10.4 Hallway 70.5 24.1 18.4 12.7 Kitchen 61.5 24.8 16.9 11.5\\n\\n.0\\n\\n5.0 Ventilation:\\n\\n.1',\n",
       " '5.1 Bathroom extractor: This continuous running device delivered the following flow rates on test and is considered to be compliant with its capability for a bathroom:\\nConstant: 6.0 l/s Boost 1: 19.8 l/s Boost 2: 26.2 l/s It is recommended the trickle vent in this room is closed.\\n\\n.2',\n",
       " '5.2 Kitchen extractor: This device is located away from a cooker hood and was switched off at the isolator on arrival. On test it delivered a single flow rate of 6.1 l/s which is below that recommended for an extractor in a kitchen situated away from a cookerhood. Two trickle vents were also noted in this room that can impact the extractor performance.\\n\\n.0',\n",
       " '7.0 Survey Equipment: Non-destructive moisture readings using: Protimeter Surveymaster on search mode using radio frequency survey method with readings given numerically from 0 to 999 REL. Survey depth is approximately 5 to 15 mm depending on material characteristics. Please note the readings are subjective and open for interpretation, therefore they should not be used to indicate actual moisture content. Tramex MRH using electrical impedance survey method on non-wood materials the readings are given numerically from 0 to 99. Please note the readings are subjective and open for interpretation, therefore they should not be used to indicate actual moisture content. Readings taken from wood are given as a %mc the unit can be calibrated to wood species the readings indicated can be taken as an indication of wood moisture content. Survey depth up to 30 mm depending on material characteristics. Invasive moisture readings have been taken using a Protimeter Surveymaster reading direct % moisture in wood and % wood moisture equivalent (%WME) in other materials. Air moisture readings have been obtained using a Tramex MRH and a Protimeter Hygromaster measuring temperature in °C, % relative humidity and specific moisture content in g/Kg.\\nNote: all readings taken with electronic metering are a guide and should be viewed with all the available information to gauge the true condition. However, for the purposes of this report the following readings can be taken as an indication that the material checked could be said to be dry back to a satisfactory level. Non-destructive Protimeter Surveymaster 200 REL(PS) or below in masonry guide only Non-destructive Tramex MRH Masonry scale 40 REL(TM) or below in masonry guide only Invasive moisture readings Plaster and Masonry WME 16% or below guide only. Invasive wood readings Below 15% Normal indoor wood moisture content 10% – 12% Air moisture readings in concrete Below 11 g/Kg Dry Air (75 %ERH at 20°C) Reference for Readings Table: Non-destructive Protimeter Surveymaster REL (PS) Non-destructive Tramex MRH REL (TM) Invasive moisture readings: Concrete: % WME\\nWood: % mc Air moisture readings in concrete: g/kg (DA) Thermal Camera: Flir 1 Edge Pro\\nAnemometer: ACIN Flowfinder Mk II in calibration']"
      ]
     },
     "execution_count": 16,
     "metadata": {},
     "output_type": "execute_result"
    }
   ],
   "source": [
    "ventilation_chunks_BN17"
   ]
  },
  {
   "cell_type": "code",
   "execution_count": null,
   "id": "e9adb057",
   "metadata": {},
   "outputs": [],
   "source": [
    "import subprocess\n",
    "def summarise_ventilation_short(chunks, model=\"mistral\"):\n",
    "    joined_text = \"\\n\\n\".join(chunks)\n",
    "\n",
    "    prompt = f\"\"\"\n",
    "From the text below, list the types and locations of ventilation present in the property.\n",
    "Do not include causes of dampness, recommendations, or extra details.\n",
    "Respond in the format: \"<ventilation type> in <location(s)>\"\n",
    "If not mentioned, return: \"not mentioned\"\n",
    "\n",
    "Text:\n",
    "\\\"\\\"\\\"\n",
    "{joined_text}\n",
    "\\\"\\\"\\\"\n",
    "\"\"\"\n",
    "    result = subprocess.run(\n",
    "        [\"ollama\", \"run\", model],\n",
    "        input=prompt.encode(),\n",
    "        capture_output=True,\n",
    "    )\n",
    "    return result.stdout.decode().strip()\n"
   ]
  },
  {
   "cell_type": "code",
   "execution_count": 21,
   "id": "0b9b52ee",
   "metadata": {},
   "outputs": [],
   "source": [
    "summary = summarise_ventilation_short(ventilation_chunks_BN17)"
   ]
  },
  {
   "cell_type": "code",
   "execution_count": 22,
   "id": "1ae95c23",
   "metadata": {},
   "outputs": [
    {
     "data": {
      "text/plain": [
       "'\"Forced extractors in Bathroom and Kitchen, Trickle vents in Bathroom, Kitchen, and some rooms\"'"
      ]
     },
     "execution_count": 22,
     "metadata": {},
     "output_type": "execute_result"
    }
   ],
   "source": [
    "summary"
   ]
  },
  {
   "cell_type": "code",
   "execution_count": null,
   "id": "df1bc319",
   "metadata": {},
   "outputs": [
    {
     "data": {
      "text/plain": [
       "'5.2 Survey Equipment: Non-wood materials can be calibrated to wood species by using a Tramex MRH (Masonry scale) and Invasiive WM (Wood moisture content) reading. As per the given text, these readings should indicate that the material checked could be said to be dry back to a satisfactory level of 15% or below.\\n\\nConclusion: Based on the survey equipment described in the text, it is clear that the materials being inspected for moisture and humidity are non-wood materials such as concrete or masonry. This makes sense since these materials do not have a natural ability to absorb water and maintain a dry environment, similar to wood. The readings taken from the Tramex MRH (Masonry scale) and Invasiive Mold/Moisture Meter indicate that the material checked could be said to be dry back to an acceptable level of 15% or less.'"
      ]
     },
     "execution_count": 23,
     "metadata": {},
     "output_type": "execute_result"
    }
   ],
   "source": []
  },
  {
   "cell_type": "code",
   "execution_count": null,
   "id": "371787b8",
   "metadata": {},
   "outputs": [],
   "source": []
  }
 ],
 "metadata": {
  "kernelspec": {
   "display_name": ".venv",
   "language": "python",
   "name": "python3"
  },
  "language_info": {
   "codemirror_mode": {
    "name": "ipython",
    "version": 3
   },
   "file_extension": ".py",
   "mimetype": "text/x-python",
   "name": "python",
   "nbconvert_exporter": "python",
   "pygments_lexer": "ipython3",
   "version": "3.13.1"
  }
 },
 "nbformat": 4,
 "nbformat_minor": 5
}
