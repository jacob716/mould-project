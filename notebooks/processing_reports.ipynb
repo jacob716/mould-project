{
 "cells": [
  {
   "cell_type": "code",
   "execution_count": null,
   "id": "ce44b8c0",
   "metadata": {},
   "outputs": [],
   "source": [
    "import sys\n",
    "import os\n",
    "\n",
    "sys.path.append(os.path.abspath(\"..\"))  # Go up one level\n",
    "from src.extract import extract_relevant\n",
    "from src.classify import identify_features\n"
   ]
  },
  {
   "cell_type": "code",
   "execution_count": null,
   "id": "120aa425",
   "metadata": {},
   "outputs": [],
   "source": [
    "a = extract_relevant('../reports/David_Bly_BN17.pdf')\n",
    "\n"
   ]
  },
  {
   "cell_type": "code",
   "execution_count": 10,
   "id": "c1545a56",
   "metadata": {},
   "outputs": [],
   "source": [
    "b = identify_features(a,model=\"mistral\")"
   ]
  },
  {
   "cell_type": "code",
   "execution_count": 12,
   "id": "0a5589b0",
   "metadata": {},
   "outputs": [
    {
     "name": "stdout",
     "output_type": "stream",
     "text": [
      "### START_JSON\n",
      "{\n",
      "  \"property_type\": \"Ground floor one-bedroom flat\",\n",
      "  \"wall_type\": \"Cavity wall (for some parts) and solid floor\",\n",
      "  \"age\": \"not mentioned\",\n",
      "  \"orientation\": \"not mentioned\",\n",
      "  \"ventilation\": \"Extractors in the bathroom and kitchen, trickle vents in the same rooms\",\n",
      "  \"window_type\": \"not mentioned\",\n",
      "  \"occupancy\": \"not mentioned\",\n",
      "  \"drying_clothes\": \"Yes\",\n",
      "  \"where_else_is_mould\": \"Areas of internal and external walls, floor, skirtings\",\n",
      "  \"issue_type\": \"Damp\"\n",
      "}\n",
      "### END_JSON\n"
     ]
    }
   ],
   "source": [
    "print(b)"
   ]
  },
  {
   "cell_type": "code",
   "execution_count": 13,
   "id": "d6c3f5ff",
   "metadata": {},
   "outputs": [],
   "source": [
    "c = identify_features(a,model=\"llama3\")"
   ]
  },
  {
   "cell_type": "code",
   "execution_count": 14,
   "id": "d18934c6",
   "metadata": {},
   "outputs": [
    {
     "name": "stdout",
     "output_type": "stream",
     "text": [
      "### START_JSON\n",
      "{\n",
      "  \"property_type\": \"ground floor one-bedroom flat\",\n",
      "  \"wall_type\": \"cavity wall and solid floor\",\n",
      "  \"age\": \"not mentioned\",\n",
      "  \"orientation\": \"not mentioned\",\n",
      "  \"ventilation\": \"forced extractors, trickle vents\",\n",
      "  \"window_type\": \"not mentioned\",\n",
      "  \"occupancy\": \"2 adults (one at work during inspection), 1 dog\",\n",
      "  \"drying_clothes\": \"not mentioned\",\n",
      "  \"where_else_is_mould\": \"other areas of the property with stale odours and localized spoiling\",\n",
      "  \"issue_type\": \"mould\"\n",
      "}\n",
      "### END_JSON\n"
     ]
    }
   ],
   "source": [
    "print(c)"
   ]
  },
  {
   "cell_type": "code",
   "execution_count": null,
   "id": "2d424bd3",
   "metadata": {},
   "outputs": [],
   "source": []
  }
 ],
 "metadata": {
  "kernelspec": {
   "display_name": ".venv",
   "language": "python",
   "name": "python3"
  },
  "language_info": {
   "codemirror_mode": {
    "name": "ipython",
    "version": 3
   },
   "file_extension": ".py",
   "mimetype": "text/x-python",
   "name": "python",
   "nbconvert_exporter": "python",
   "pygments_lexer": "ipython3",
   "version": "3.13.1"
  }
 },
 "nbformat": 4,
 "nbformat_minor": 5
}
