{
 "cells": [
  {
   "cell_type": "code",
   "execution_count": 1,
   "id": "0faa9881",
   "metadata": {},
   "outputs": [],
   "source": [
    "import pandas as pd"
   ]
  },
  {
   "cell_type": "code",
   "execution_count": 2,
   "id": "39ce3f1e",
   "metadata": {},
   "outputs": [],
   "source": [
    "df = pd.read_csv(\"../merged_reports.csv\")"
   ]
  },
  {
   "cell_type": "code",
   "execution_count": 4,
   "id": "650aee70",
   "metadata": {},
   "outputs": [],
   "source": [
    "def categorize_ventilation(vent_text: str) -> str:\n",
    "    if pd.isna(vent_text) or str(vent_text).strip().lower() in [\"\", \"not mentioned\"]:\n",
    "        return \"Not mentioned\"\n",
    "\n",
    "    text = vent_text.lower()\n",
    "\n",
    "    # Priority order\n",
    "    if \"mvhr\" in text or \"heat recovery\" in text:\n",
    "        return \"MVHR\"\n",
    "    elif \"continuous\" in text or \"dmev\" in text or \"continuous running\" in text:\n",
    "        return \"Continuous Mechanical Ventilation\"\n",
    "    elif \"piv\" in text or \"positive input\" in text:\n",
    "        return \"PIV\"\n",
    "    elif \"extract\" in text or \"extractor fan\" in text or \"mechanical extract\" in text:\n",
    "        return \"Extract Ventilation\"\n",
    "    elif any(word in text for word in [\"trickle vent\", \"openable window\", \"passive vent\", \"natural\"]):\n",
    "        return \"Natural Ventilation\"\n",
    "    else:\n",
    "        return \"Other / Unclear\"\n",
    "\n",
    "# Apply to your dataframe\n",
    "df[\"ventilation_category\"] = df[\"ventilation\"].apply(categorize_ventilation)\n"
   ]
  },
  {
   "cell_type": "code",
   "execution_count": 6,
   "id": "7f6ba1f9",
   "metadata": {},
   "outputs": [],
   "source": [
    "df.to_csv(\"ventilation_category_added.csv\",index=False)"
   ]
  },
  {
   "cell_type": "code",
   "execution_count": null,
   "id": "4a8789b9",
   "metadata": {},
   "outputs": [],
   "source": []
  }
 ],
 "metadata": {
  "kernelspec": {
   "display_name": ".venv",
   "language": "python",
   "name": "python3"
  },
  "language_info": {
   "codemirror_mode": {
    "name": "ipython",
    "version": 3
   },
   "file_extension": ".py",
   "mimetype": "text/x-python",
   "name": "python",
   "nbconvert_exporter": "python",
   "pygments_lexer": "ipython3",
   "version": "3.13.1"
  }
 },
 "nbformat": 4,
 "nbformat_minor": 5
}
