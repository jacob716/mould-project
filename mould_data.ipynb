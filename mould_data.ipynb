{
 "cells": [
  {
   "cell_type": "code",
   "execution_count": null,
   "id": "58252572",
   "metadata": {},
   "outputs": [],
   "source": [
    "import pandas as pd\n",
    "import json\n",
    "import re"
   ]
  },
  {
   "cell_type": "code",
   "execution_count": 20,
   "id": "45103a42",
   "metadata": {},
   "outputs": [],
   "source": [
    "columns = [\n",
    "    \"postcode\",\n",
    "    \"property_type\",\n",
    "    \"wall_type\",\n",
    "    \"age\",\n",
    "    \"orientation\",\n",
    "    \"ventilation\",\n",
    "    \"window_type\",\n",
    "    \"ducting_length\",\n",
    "    \"people\",\n",
    "    \"pets\",\n",
    "    \"drying_clothes\",\n",
    "    \"where_else_is_mould\",\n",
    "    \"solution\",\n",
    "    \"date_of_survey\"\n",
    "]"
   ]
  },
  {
   "cell_type": "code",
   "execution_count": 21,
   "id": "883b5ff3",
   "metadata": {},
   "outputs": [],
   "source": [
    "df = pd.DataFrame(columns=columns)"
   ]
  },
  {
   "cell_type": "code",
   "execution_count": 1,
   "id": "072dd3f4",
   "metadata": {},
   "outputs": [],
   "source": [
    "from src.extract import extract_full_text\n",
    "from src.classify import identify_features"
   ]
  },
  {
   "cell_type": "code",
   "execution_count": 2,
   "id": "bbce6f9d",
   "metadata": {},
   "outputs": [],
   "source": [
    "pdf_path = \"reports/Cornerstone sample DS report.pdf\"\n",
    "\n",
    "full_text = extract_full_text(pdf_path=pdf_path)"
   ]
  },
  {
   "cell_type": "code",
   "execution_count": 3,
   "id": "c2991f86",
   "metadata": {},
   "outputs": [
    {
     "ename": "KeyboardInterrupt",
     "evalue": "",
     "output_type": "error",
     "traceback": [
      "\u001b[31m---------------------------------------------------------------------------\u001b[39m",
      "\u001b[31mKeyboardInterrupt\u001b[39m                         Traceback (most recent call last)",
      "\u001b[36mCell\u001b[39m\u001b[36m \u001b[39m\u001b[32mIn[3]\u001b[39m\u001b[32m, line 1\u001b[39m\n\u001b[32m----> \u001b[39m\u001b[32m1\u001b[39m response_text = \u001b[43midentify_features\u001b[49m\u001b[43m(\u001b[49m\u001b[43mfull_text\u001b[49m\u001b[43m)\u001b[49m\n",
      "\u001b[36mFile \u001b[39m\u001b[32m~/code/mould-project/src/classify.py:87\u001b[39m, in \u001b[36midentify_features\u001b[39m\u001b[34m(full_text, model)\u001b[39m\n\u001b[32m     37\u001b[39m \u001b[38;5;28;01mdef\u001b[39;00m\u001b[38;5;250m \u001b[39m\u001b[34midentify_features\u001b[39m(full_text: \u001b[38;5;28mstr\u001b[39m, model: \u001b[38;5;28mstr\u001b[39m = \u001b[33m\"\u001b[39m\u001b[33mmistral\u001b[39m\u001b[33m\"\u001b[39m) -> \u001b[38;5;28mstr\u001b[39m:\n\u001b[32m     38\u001b[39m     prompt = \u001b[33mf\u001b[39m\u001b[33m\"\"\"\u001b[39m\n\u001b[32m     39\u001b[39m \u001b[33mExtract the following fields from the property inspection report below. Your response **must be valid JSON** with exactly these fields.\u001b[39m\n\u001b[32m     40\u001b[39m \u001b[33mIf a value is not mentioned in the report, return \u001b[39m\u001b[33m\"\u001b[39m\u001b[33mnot mentioned\u001b[39m\u001b[33m\"\u001b[39m\u001b[33m for that field.\u001b[39m\n\u001b[32m   (...)\u001b[39m\u001b[32m     84\u001b[39m \u001b[38;5;130;01m\\\"\u001b[39;00m\u001b[38;5;130;01m\\\"\u001b[39;00m\u001b[38;5;130;01m\\\"\u001b[39;00m\n\u001b[32m     85\u001b[39m \u001b[33m    \u001b[39m\u001b[33m\"\"\"\u001b[39m\n\u001b[32m---> \u001b[39m\u001b[32m87\u001b[39m     result = \u001b[43msubprocess\u001b[49m\u001b[43m.\u001b[49m\u001b[43mrun\u001b[49m\u001b[43m(\u001b[49m\n\u001b[32m     88\u001b[39m \u001b[43m        \u001b[49m\u001b[43m[\u001b[49m\u001b[33;43m\"\u001b[39;49m\u001b[33;43mollama\u001b[39;49m\u001b[33;43m\"\u001b[39;49m\u001b[43m,\u001b[49m\u001b[43m \u001b[49m\u001b[33;43m\"\u001b[39;49m\u001b[33;43mrun\u001b[39;49m\u001b[33;43m\"\u001b[39;49m\u001b[43m,\u001b[49m\u001b[43m \u001b[49m\u001b[43mmodel\u001b[49m\u001b[43m]\u001b[49m\u001b[43m,\u001b[49m\n\u001b[32m     89\u001b[39m \u001b[43m        \u001b[49m\u001b[38;5;28;43minput\u001b[39;49m\u001b[43m=\u001b[49m\u001b[43mprompt\u001b[49m\u001b[43m.\u001b[49m\u001b[43mencode\u001b[49m\u001b[43m(\u001b[49m\u001b[43m)\u001b[49m\u001b[43m,\u001b[49m\n\u001b[32m     90\u001b[39m \u001b[43m        \u001b[49m\u001b[43mcapture_output\u001b[49m\u001b[43m=\u001b[49m\u001b[38;5;28;43;01mTrue\u001b[39;49;00m\u001b[43m,\u001b[49m\n\u001b[32m     91\u001b[39m \u001b[43m    \u001b[49m\u001b[43m)\u001b[49m\n\u001b[32m     92\u001b[39m     output = result.stdout.decode().strip()\n\u001b[32m     93\u001b[39m     \u001b[38;5;28;01mreturn\u001b[39;00m output\n",
      "\u001b[36mFile \u001b[39m\u001b[32m~/.pyenv/versions/3.13.1/lib/python3.13/subprocess.py:556\u001b[39m, in \u001b[36mrun\u001b[39m\u001b[34m(input, capture_output, timeout, check, *popenargs, **kwargs)\u001b[39m\n\u001b[32m    554\u001b[39m \u001b[38;5;28;01mwith\u001b[39;00m Popen(*popenargs, **kwargs) \u001b[38;5;28;01mas\u001b[39;00m process:\n\u001b[32m    555\u001b[39m     \u001b[38;5;28;01mtry\u001b[39;00m:\n\u001b[32m--> \u001b[39m\u001b[32m556\u001b[39m         stdout, stderr = \u001b[43mprocess\u001b[49m\u001b[43m.\u001b[49m\u001b[43mcommunicate\u001b[49m\u001b[43m(\u001b[49m\u001b[38;5;28;43minput\u001b[39;49m\u001b[43m,\u001b[49m\u001b[43m \u001b[49m\u001b[43mtimeout\u001b[49m\u001b[43m=\u001b[49m\u001b[43mtimeout\u001b[49m\u001b[43m)\u001b[49m\n\u001b[32m    557\u001b[39m     \u001b[38;5;28;01mexcept\u001b[39;00m TimeoutExpired \u001b[38;5;28;01mas\u001b[39;00m exc:\n\u001b[32m    558\u001b[39m         process.kill()\n",
      "\u001b[36mFile \u001b[39m\u001b[32m~/.pyenv/versions/3.13.1/lib/python3.13/subprocess.py:1219\u001b[39m, in \u001b[36mPopen.communicate\u001b[39m\u001b[34m(self, input, timeout)\u001b[39m\n\u001b[32m   1216\u001b[39m     endtime = \u001b[38;5;28;01mNone\u001b[39;00m\n\u001b[32m   1218\u001b[39m \u001b[38;5;28;01mtry\u001b[39;00m:\n\u001b[32m-> \u001b[39m\u001b[32m1219\u001b[39m     stdout, stderr = \u001b[38;5;28;43mself\u001b[39;49m\u001b[43m.\u001b[49m\u001b[43m_communicate\u001b[49m\u001b[43m(\u001b[49m\u001b[38;5;28;43minput\u001b[39;49m\u001b[43m,\u001b[49m\u001b[43m \u001b[49m\u001b[43mendtime\u001b[49m\u001b[43m,\u001b[49m\u001b[43m \u001b[49m\u001b[43mtimeout\u001b[49m\u001b[43m)\u001b[49m\n\u001b[32m   1220\u001b[39m \u001b[38;5;28;01mexcept\u001b[39;00m \u001b[38;5;167;01mKeyboardInterrupt\u001b[39;00m:\n\u001b[32m   1221\u001b[39m     \u001b[38;5;66;03m# https://bugs.python.org/issue25942\u001b[39;00m\n\u001b[32m   1222\u001b[39m     \u001b[38;5;66;03m# See the detailed comment in .wait().\u001b[39;00m\n\u001b[32m   1223\u001b[39m     \u001b[38;5;28;01mif\u001b[39;00m timeout \u001b[38;5;129;01mis\u001b[39;00m \u001b[38;5;129;01mnot\u001b[39;00m \u001b[38;5;28;01mNone\u001b[39;00m:\n",
      "\u001b[36mFile \u001b[39m\u001b[32m~/.pyenv/versions/3.13.1/lib/python3.13/subprocess.py:2122\u001b[39m, in \u001b[36mPopen._communicate\u001b[39m\u001b[34m(self, input, endtime, orig_timeout)\u001b[39m\n\u001b[32m   2115\u001b[39m     \u001b[38;5;28mself\u001b[39m._check_timeout(endtime, orig_timeout,\n\u001b[32m   2116\u001b[39m                         stdout, stderr,\n\u001b[32m   2117\u001b[39m                         skip_check_and_raise=\u001b[38;5;28;01mTrue\u001b[39;00m)\n\u001b[32m   2118\u001b[39m     \u001b[38;5;28;01mraise\u001b[39;00m \u001b[38;5;167;01mRuntimeError\u001b[39;00m(  \u001b[38;5;66;03m# Impossible :)\u001b[39;00m\n\u001b[32m   2119\u001b[39m         \u001b[33m'\u001b[39m\u001b[33m_check_timeout(..., skip_check_and_raise=True) \u001b[39m\u001b[33m'\u001b[39m\n\u001b[32m   2120\u001b[39m         \u001b[33m'\u001b[39m\u001b[33mfailed to raise TimeoutExpired.\u001b[39m\u001b[33m'\u001b[39m)\n\u001b[32m-> \u001b[39m\u001b[32m2122\u001b[39m ready = \u001b[43mselector\u001b[49m\u001b[43m.\u001b[49m\u001b[43mselect\u001b[49m\u001b[43m(\u001b[49m\u001b[43mtimeout\u001b[49m\u001b[43m)\u001b[49m\n\u001b[32m   2123\u001b[39m \u001b[38;5;28mself\u001b[39m._check_timeout(endtime, orig_timeout, stdout, stderr)\n\u001b[32m   2125\u001b[39m \u001b[38;5;66;03m# XXX Rewrite these to use non-blocking I/O on the file\u001b[39;00m\n\u001b[32m   2126\u001b[39m \u001b[38;5;66;03m# objects; they are no longer using C stdio!\u001b[39;00m\n",
      "\u001b[36mFile \u001b[39m\u001b[32m~/.pyenv/versions/3.13.1/lib/python3.13/selectors.py:398\u001b[39m, in \u001b[36m_PollLikeSelector.select\u001b[39m\u001b[34m(self, timeout)\u001b[39m\n\u001b[32m    396\u001b[39m ready = []\n\u001b[32m    397\u001b[39m \u001b[38;5;28;01mtry\u001b[39;00m:\n\u001b[32m--> \u001b[39m\u001b[32m398\u001b[39m     fd_event_list = \u001b[38;5;28;43mself\u001b[39;49m\u001b[43m.\u001b[49m\u001b[43m_selector\u001b[49m\u001b[43m.\u001b[49m\u001b[43mpoll\u001b[49m\u001b[43m(\u001b[49m\u001b[43mtimeout\u001b[49m\u001b[43m)\u001b[49m\n\u001b[32m    399\u001b[39m \u001b[38;5;28;01mexcept\u001b[39;00m \u001b[38;5;167;01mInterruptedError\u001b[39;00m:\n\u001b[32m    400\u001b[39m     \u001b[38;5;28;01mreturn\u001b[39;00m ready\n",
      "\u001b[31mKeyboardInterrupt\u001b[39m: "
     ]
    }
   ],
   "source": [
    "response_text = identify_features(full_text)"
   ]
  },
  {
   "cell_type": "code",
   "execution_count": 26,
   "id": "8f9124c6",
   "metadata": {},
   "outputs": [],
   "source": [
    "\n",
    "\n",
    "# Extract the JSON block from the response text\n",
    "match = re.search(r\"### START_JSON\\s*(\\{.*?\\})\\s*### END_JSON\", response_text, re.DOTALL)\n",
    "if match:\n",
    "    json_block = match.group(1)\n",
    "    json_data = json.loads(json_block)  # ✅ Now it's a Python dict!\n",
    "else:\n",
    "    print(\"❌ Could not find valid JSON block.\")\n",
    "    json_data = {}\n"
   ]
  },
  {
   "cell_type": "code",
   "execution_count": 27,
   "id": "b058e5fc",
   "metadata": {},
   "outputs": [],
   "source": [
    "df = pd.concat([df, pd.DataFrame([json_data])], ignore_index=True)\n"
   ]
  },
  {
   "cell_type": "code",
   "execution_count": 31,
   "id": "4a18a97d",
   "metadata": {},
   "outputs": [
    {
     "data": {
      "text/html": [
       "<div>\n",
       "<style scoped>\n",
       "    .dataframe tbody tr th:only-of-type {\n",
       "        vertical-align: middle;\n",
       "    }\n",
       "\n",
       "    .dataframe tbody tr th {\n",
       "        vertical-align: top;\n",
       "    }\n",
       "\n",
       "    .dataframe thead th {\n",
       "        text-align: right;\n",
       "    }\n",
       "</style>\n",
       "<table border=\"1\" class=\"dataframe\">\n",
       "  <thead>\n",
       "    <tr style=\"text-align: right;\">\n",
       "      <th></th>\n",
       "      <th>postcode</th>\n",
       "      <th>property_type</th>\n",
       "      <th>wall_type</th>\n",
       "      <th>age</th>\n",
       "      <th>orientation</th>\n",
       "      <th>ventilation</th>\n",
       "      <th>window_type</th>\n",
       "      <th>ducting_length</th>\n",
       "      <th>people</th>\n",
       "      <th>pets</th>\n",
       "      <th>drying_clothes</th>\n",
       "      <th>where_else_is_mould</th>\n",
       "      <th>solution</th>\n",
       "      <th>date_of_survey</th>\n",
       "    </tr>\n",
       "  </thead>\n",
       "  <tbody>\n",
       "    <tr>\n",
       "      <th>0</th>\n",
       "      <td>not mentioned</td>\n",
       "      <td>semi-detached 2-bedroom maisonette</td>\n",
       "      <td>cavity wall (ground floor solid), cavity wall ...</td>\n",
       "      <td>not mentioned</td>\n",
       "      <td>not mentioned</td>\n",
       "      <td>forced extraction unit in bathroom, forced ext...</td>\n",
       "      <td>uPVC</td>\n",
       "      <td>not mentioned</td>\n",
       "      <td>Mr &amp; Mrs Correla plus 3 medium sized dogs</td>\n",
       "      <td>3 medium sized dogs</td>\n",
       "      <td>not mentioned</td>\n",
       "      <td>not mentioned</td>\n",
       "      <td>Investigate potential issues in the bathroom, ...</td>\n",
       "      <td>not mentioned</td>\n",
       "    </tr>\n",
       "    <tr>\n",
       "      <th>1</th>\n",
       "      <td>not mentioned</td>\n",
       "      <td>three-bedroom semi-detached dwelling</td>\n",
       "      <td>cavity wall</td>\n",
       "      <td>not mentioned</td>\n",
       "      <td>not mentioned</td>\n",
       "      <td>No extractor installed in the kitchen, new bat...</td>\n",
       "      <td>not mentioned</td>\n",
       "      <td>not mentioned</td>\n",
       "      <td>not mentioned</td>\n",
       "      <td>not mentioned</td>\n",
       "      <td>Clothes are dried indoors</td>\n",
       "      <td>areas to the lounge, all three bedrooms, and c...</td>\n",
       "      <td>Recommended actions include checking the revea...</td>\n",
       "      <td>not mentioned</td>\n",
       "    </tr>\n",
       "  </tbody>\n",
       "</table>\n",
       "</div>"
      ],
      "text/plain": [
       "        postcode                         property_type  \\\n",
       "0  not mentioned    semi-detached 2-bedroom maisonette   \n",
       "1  not mentioned  three-bedroom semi-detached dwelling   \n",
       "\n",
       "                                           wall_type            age  \\\n",
       "0  cavity wall (ground floor solid), cavity wall ...  not mentioned   \n",
       "1                                        cavity wall  not mentioned   \n",
       "\n",
       "     orientation                                        ventilation  \\\n",
       "0  not mentioned  forced extraction unit in bathroom, forced ext...   \n",
       "1  not mentioned  No extractor installed in the kitchen, new bat...   \n",
       "\n",
       "     window_type ducting_length                                     people  \\\n",
       "0           uPVC  not mentioned  Mr & Mrs Correla plus 3 medium sized dogs   \n",
       "1  not mentioned  not mentioned                              not mentioned   \n",
       "\n",
       "                  pets             drying_clothes  \\\n",
       "0  3 medium sized dogs              not mentioned   \n",
       "1        not mentioned  Clothes are dried indoors   \n",
       "\n",
       "                                 where_else_is_mould  \\\n",
       "0                                      not mentioned   \n",
       "1  areas to the lounge, all three bedrooms, and c...   \n",
       "\n",
       "                                            solution date_of_survey  \n",
       "0  Investigate potential issues in the bathroom, ...  not mentioned  \n",
       "1  Recommended actions include checking the revea...  not mentioned  "
      ]
     },
     "execution_count": 31,
     "metadata": {},
     "output_type": "execute_result"
    }
   ],
   "source": [
    "df"
   ]
  },
  {
   "cell_type": "code",
   "execution_count": 30,
   "id": "990bfdf5",
   "metadata": {},
   "outputs": [
    {
     "data": {
      "text/html": [
       "<div>\n",
       "<style scoped>\n",
       "    .dataframe tbody tr th:only-of-type {\n",
       "        vertical-align: middle;\n",
       "    }\n",
       "\n",
       "    .dataframe tbody tr th {\n",
       "        vertical-align: top;\n",
       "    }\n",
       "\n",
       "    .dataframe thead th {\n",
       "        text-align: right;\n",
       "    }\n",
       "</style>\n",
       "<table border=\"1\" class=\"dataframe\">\n",
       "  <thead>\n",
       "    <tr style=\"text-align: right;\">\n",
       "      <th></th>\n",
       "      <th>postcode</th>\n",
       "      <th>property_type</th>\n",
       "      <th>wall_type</th>\n",
       "      <th>age</th>\n",
       "      <th>orientation</th>\n",
       "      <th>ventilation</th>\n",
       "      <th>window_type</th>\n",
       "      <th>ducting_length</th>\n",
       "      <th>people</th>\n",
       "      <th>pets</th>\n",
       "      <th>drying_clothes</th>\n",
       "      <th>where_else_is_mould</th>\n",
       "      <th>solution</th>\n",
       "      <th>date_of_survey</th>\n",
       "    </tr>\n",
       "  </thead>\n",
       "  <tbody>\n",
       "    <tr>\n",
       "      <th>0</th>\n",
       "      <td>not mentioned</td>\n",
       "      <td>semi-detached 2-bedroom maisonette</td>\n",
       "      <td>cavity wall (ground floor solid), cavity wall ...</td>\n",
       "      <td>not mentioned</td>\n",
       "      <td>not mentioned</td>\n",
       "      <td>forced extraction unit in bathroom, forced ext...</td>\n",
       "      <td>uPVC</td>\n",
       "      <td>not mentioned</td>\n",
       "      <td>Mr &amp; Mrs Correla plus 3 medium sized dogs</td>\n",
       "      <td>3 medium sized dogs</td>\n",
       "      <td>not mentioned</td>\n",
       "      <td>not mentioned</td>\n",
       "      <td>Investigate potential issues in the bathroom, ...</td>\n",
       "      <td>not mentioned</td>\n",
       "    </tr>\n",
       "    <tr>\n",
       "      <th>1</th>\n",
       "      <td>not mentioned</td>\n",
       "      <td>three-bedroom semi-detached dwelling</td>\n",
       "      <td>cavity wall</td>\n",
       "      <td>not mentioned</td>\n",
       "      <td>not mentioned</td>\n",
       "      <td>No extractor installed in the kitchen, new bat...</td>\n",
       "      <td>not mentioned</td>\n",
       "      <td>not mentioned</td>\n",
       "      <td>not mentioned</td>\n",
       "      <td>not mentioned</td>\n",
       "      <td>Clothes are dried indoors</td>\n",
       "      <td>areas to the lounge, all three bedrooms, and c...</td>\n",
       "      <td>Recommended actions include checking the revea...</td>\n",
       "      <td>not mentioned</td>\n",
       "    </tr>\n",
       "  </tbody>\n",
       "</table>\n",
       "</div>"
      ],
      "text/plain": [
       "        postcode                         property_type  \\\n",
       "0  not mentioned    semi-detached 2-bedroom maisonette   \n",
       "1  not mentioned  three-bedroom semi-detached dwelling   \n",
       "\n",
       "                                           wall_type            age  \\\n",
       "0  cavity wall (ground floor solid), cavity wall ...  not mentioned   \n",
       "1                                        cavity wall  not mentioned   \n",
       "\n",
       "     orientation                                        ventilation  \\\n",
       "0  not mentioned  forced extraction unit in bathroom, forced ext...   \n",
       "1  not mentioned  No extractor installed in the kitchen, new bat...   \n",
       "\n",
       "     window_type ducting_length                                     people  \\\n",
       "0           uPVC  not mentioned  Mr & Mrs Correla plus 3 medium sized dogs   \n",
       "1  not mentioned  not mentioned                              not mentioned   \n",
       "\n",
       "                  pets             drying_clothes  \\\n",
       "0  3 medium sized dogs              not mentioned   \n",
       "1        not mentioned  Clothes are dried indoors   \n",
       "\n",
       "                                 where_else_is_mould  \\\n",
       "0                                      not mentioned   \n",
       "1  areas to the lounge, all three bedrooms, and c...   \n",
       "\n",
       "                                            solution date_of_survey  \n",
       "0  Investigate potential issues in the bathroom, ...  not mentioned  \n",
       "1  Recommended actions include checking the revea...  not mentioned  "
      ]
     },
     "execution_count": 30,
     "metadata": {},
     "output_type": "execute_result"
    }
   ],
   "source": [
    "first_two_df"
   ]
  },
  {
   "cell_type": "code",
   "execution_count": null,
   "id": "613c4d64",
   "metadata": {},
   "outputs": [],
   "source": []
  }
 ],
 "metadata": {
  "kernelspec": {
   "display_name": ".venv",
   "language": "python",
   "name": "python3"
  },
  "language_info": {
   "codemirror_mode": {
    "name": "ipython",
    "version": 3
   },
   "file_extension": ".py",
   "mimetype": "text/x-python",
   "name": "python",
   "nbconvert_exporter": "python",
   "pygments_lexer": "ipython3",
   "version": "3.13.1"
  }
 },
 "nbformat": 4,
 "nbformat_minor": 5
}
